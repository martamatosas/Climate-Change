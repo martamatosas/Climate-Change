{
 "cells": [
  {
   "cell_type": "code",
   "execution_count": 1,
   "metadata": {},
   "outputs": [],
   "source": [
    "# Import, inspect and clean Kaggle dataset.\n",
    "# Calculate anonalies\n",
    "# Save clean dataframe as csv\n",
    "import pandas as pd\n",
    "import numpy as np"
   ]
  },
  {
   "cell_type": "code",
   "execution_count": 2,
   "metadata": {},
   "outputs": [
    {
     "name": "stdout",
     "output_type": "stream",
     "text": [
      "           dt  AverageTemperature  AverageTemperatureUncertainty Country\n",
      "0  1743-11-01               4.384                          2.294   Åland\n",
      "1  1743-12-01                 NaN                            NaN   Åland\n",
      "2  1744-01-01                 NaN                            NaN   Åland\n",
      "3  1744-02-01                 NaN                            NaN   Åland\n",
      "4  1744-03-01                 NaN                            NaN   Åland\n",
      "                dt  AverageTemperature  AverageTemperatureUncertainty  \\\n",
      "577457  2013-05-01              19.059                          1.022   \n",
      "577458  2013-06-01              17.613                          0.473   \n",
      "577459  2013-07-01              17.000                          0.453   \n",
      "577460  2013-08-01              19.759                          0.717   \n",
      "577461  2013-09-01                 NaN                            NaN   \n",
      "\n",
      "         Country  \n",
      "577457  Zimbabwe  \n",
      "577458  Zimbabwe  \n",
      "577459  Zimbabwe  \n",
      "577460  Zimbabwe  \n",
      "577461  Zimbabwe  \n",
      "<class 'pandas.core.frame.DataFrame'>\n",
      "RangeIndex: 577462 entries, 0 to 577461\n",
      "Data columns (total 4 columns):\n",
      " #   Column                         Non-Null Count   Dtype  \n",
      "---  ------                         --------------   -----  \n",
      " 0   dt                             577462 non-null  object \n",
      " 1   AverageTemperature             544811 non-null  float64\n",
      " 2   AverageTemperatureUncertainty  545550 non-null  float64\n",
      " 3   Country                        577462 non-null  object \n",
      "dtypes: float64(2), object(2)\n",
      "memory usage: 17.6+ MB\n",
      "None\n"
     ]
    }
   ],
   "source": [
    "# read the dataset\n",
    "data = pd.read_csv(\"GlobalLandTemperaturesByCountry.csv\")\n",
    "# inspect the dataset\n",
    "print(data.head())\n",
    "print(data.tail())\n",
    "print(data.info())"
   ]
  },
  {
   "cell_type": "code",
   "execution_count": 3,
   "metadata": {},
   "outputs": [
    {
     "name": "stdout",
     "output_type": "stream",
     "text": [
      "           dt  AverageTemperature  AverageTemperatureUncertainty Country\n",
      "1  1743-12-01                 NaN                            NaN   Åland\n",
      "2  1744-01-01                 NaN                            NaN   Åland\n",
      "3  1744-02-01                 NaN                            NaN   Åland\n",
      "4  1744-03-01                 NaN                            NaN   Åland\n",
      "9  1744-08-01                 NaN                            NaN   Åland\n",
      "['Åland' 'Afghanistan' 'Africa' 'Albania' 'Algeria' 'American Samoa'\n",
      " 'Andorra' 'Angola' 'Anguilla' 'Antarctica' 'Antigua And Barbuda'\n",
      " 'Argentina' 'Armenia' 'Aruba' 'Asia' 'Australia' 'Austria' 'Azerbaijan'\n",
      " 'Bahamas' 'Bahrain' 'Baker Island' 'Bangladesh' 'Barbados' 'Belarus'\n",
      " 'Belgium' 'Belize' 'Benin' 'Bhutan' 'Bolivia'\n",
      " 'Bonaire, Saint Eustatius And Saba' 'Bosnia And Herzegovina' 'Botswana'\n",
      " 'Brazil' 'British Virgin Islands' 'Bulgaria' 'Burkina Faso' 'Burma'\n",
      " 'Burundi' \"Côte D'Ivoire\" 'Cambodia' 'Cameroon' 'Canada' 'Cape Verde'\n",
      " 'Central African Republic' 'Chad' 'Chile' 'China' 'Christmas Island'\n",
      " 'Colombia' 'Comoros' 'Congo (Democratic Republic Of The)' 'Congo'\n",
      " 'Croatia' 'Curaçao' 'Cyprus' 'Czech Republic' 'Denmark (Europe)'\n",
      " 'Denmark' 'Djibouti' 'Dominica' 'Dominican Republic' 'Ecuador' 'Egypt'\n",
      " 'El Salvador' 'Equatorial Guinea' 'Eritrea' 'Estonia' 'Ethiopia' 'Europe'\n",
      " 'Falkland Islands (Islas Malvinas)' 'Faroe Islands'\n",
      " 'Federated States Of Micronesia' 'Fiji' 'Finland' 'France (Europe)'\n",
      " 'France' 'French Guiana' 'French Polynesia'\n",
      " 'French Southern And Antarctic Lands' 'Gabon' 'Gambia' 'Gaza Strip'\n",
      " 'Georgia' 'Germany' 'Ghana' 'Greece' 'Greenland' 'Grenada' 'Guadeloupe'\n",
      " 'Guam' 'Guatemala' 'Guernsey' 'Guinea Bissau' 'Guinea' 'Guyana' 'Haiti'\n",
      " 'Heard Island And Mcdonald Islands' 'Honduras' 'Hong Kong' 'Hungary'\n",
      " 'Iceland' 'India' 'Indonesia' 'Iran' 'Iraq' 'Ireland' 'Isle Of Man'\n",
      " 'Israel' 'Italy' 'Jamaica' 'Japan' 'Jersey' 'Jordan' 'Kazakhstan' 'Kenya'\n",
      " 'Kingman Reef' 'Kiribati' 'Kuwait' 'Kyrgyzstan' 'Laos' 'Latvia' 'Lebanon'\n",
      " 'Lesotho' 'Liberia' 'Libya' 'Liechtenstein' 'Lithuania' 'Luxembourg'\n",
      " 'Macau' 'Macedonia' 'Madagascar' 'Malawi' 'Malaysia' 'Mali' 'Malta'\n",
      " 'Martinique' 'Mauritania' 'Mauritius' 'Mayotte' 'Moldova' 'Monaco'\n",
      " 'Mongolia' 'Montenegro' 'Montserrat' 'Morocco' 'Mozambique' 'Namibia'\n",
      " 'Nepal' 'Netherlands (Europe)' 'Netherlands' 'New Caledonia'\n",
      " 'New Zealand' 'Nicaragua' 'Niger' 'Nigeria' 'Niue' 'North America'\n",
      " 'North Korea' 'Northern Mariana Islands' 'Norway' 'Oceania' 'Oman'\n",
      " 'Pakistan' 'Palau' 'Palestina' 'Palmyra Atoll' 'Panama'\n",
      " 'Papua New Guinea' 'Paraguay' 'Peru' 'Philippines' 'Poland' 'Portugal'\n",
      " 'Puerto Rico' 'Qatar' 'Reunion' 'Romania' 'Russia' 'Rwanda'\n",
      " 'Saint Barthélemy' 'Saint Kitts And Nevis' 'Saint Lucia' 'Saint Martin'\n",
      " 'Saint Pierre And Miquelon' 'Saint Vincent And The Grenadines' 'Samoa'\n",
      " 'San Marino' 'Sao Tome And Principe' 'Saudi Arabia' 'Senegal' 'Serbia'\n",
      " 'Seychelles' 'Sierra Leone' 'Singapore' 'Sint Maarten' 'Slovakia'\n",
      " 'Slovenia' 'Solomon Islands' 'Somalia' 'South Africa' 'South America'\n",
      " 'South Georgia And The South Sandwich Isla' 'South Korea' 'Spain'\n",
      " 'Sri Lanka' 'Sudan' 'Suriname' 'Svalbard And Jan Mayen' 'Swaziland'\n",
      " 'Sweden' 'Switzerland' 'Syria' 'Taiwan' 'Tajikistan' 'Tanzania'\n",
      " 'Thailand' 'Timor Leste' 'Togo' 'Tonga' 'Trinidad And Tobago' 'Tunisia'\n",
      " 'Turkey' 'Turkmenistan' 'Uganda' 'Ukraine' 'United Arab Emirates'\n",
      " 'United Kingdom (Europe)' 'United Kingdom' 'United States' 'Uruguay'\n",
      " 'Uzbekistan' 'Venezuela' 'Vietnam' 'Virgin Islands' 'Western Sahara'\n",
      " 'Yemen' 'Zambia' 'Zimbabwe']\n",
      "['1743-12-01' '1744-01-01' '1744-02-01' ... '1894-08-01' '1894-09-01'\n",
      " '1902-12-01']\n"
     ]
    }
   ],
   "source": [
    "# investigate missing data in column \"AverageTemperature\"\n",
    "null_data = data[data['AverageTemperature'].isnull()]\n",
    "print(null_data.head())\n",
    "print(null_data['Country'].unique())\n",
    "print(null_data['dt'].unique())"
   ]
  },
  {
   "cell_type": "code",
   "execution_count": 4,
   "metadata": {},
   "outputs": [
    {
     "name": "stdout",
     "output_type": "stream",
     "text": [
      "<class 'pandas.core.frame.DataFrame'>\n",
      "Int64Index: 544811 entries, 0 to 577460\n",
      "Data columns (total 4 columns):\n",
      " #   Column                         Non-Null Count   Dtype  \n",
      "---  ------                         --------------   -----  \n",
      " 0   dt                             544811 non-null  object \n",
      " 1   AverageTemperature             544811 non-null  float64\n",
      " 2   AverageTemperatureUncertainty  544811 non-null  float64\n",
      " 3   Country                        544811 non-null  object \n",
      "dtypes: float64(2), object(2)\n",
      "memory usage: 20.8+ MB\n",
      "None\n",
      "['Åland' 'Afghanistan' 'Africa' 'Albania' 'Algeria' 'American Samoa'\n",
      " 'Andorra' 'Angola' 'Anguilla' 'Antigua And Barbuda' 'Argentina' 'Armenia'\n",
      " 'Aruba' 'Asia' 'Australia' 'Austria' 'Azerbaijan' 'Bahamas' 'Bahrain'\n",
      " 'Baker Island' 'Bangladesh' 'Barbados' 'Belarus' 'Belgium' 'Belize'\n",
      " 'Benin' 'Bhutan' 'Bolivia' 'Bonaire, Saint Eustatius And Saba'\n",
      " 'Bosnia And Herzegovina' 'Botswana' 'Brazil' 'British Virgin Islands'\n",
      " 'Bulgaria' 'Burkina Faso' 'Burma' 'Burundi' \"Côte D'Ivoire\" 'Cambodia'\n",
      " 'Cameroon' 'Canada' 'Cape Verde' 'Cayman Islands'\n",
      " 'Central African Republic' 'Chad' 'Chile' 'China' 'Christmas Island'\n",
      " 'Colombia' 'Comoros' 'Congo (Democratic Republic Of The)' 'Congo'\n",
      " 'Costa Rica' 'Croatia' 'Cuba' 'Curaçao' 'Cyprus' 'Czech Republic'\n",
      " 'Denmark (Europe)' 'Denmark' 'Djibouti' 'Dominica' 'Dominican Republic'\n",
      " 'Ecuador' 'Egypt' 'El Salvador' 'Equatorial Guinea' 'Eritrea' 'Estonia'\n",
      " 'Ethiopia' 'Europe' 'Falkland Islands (Islas Malvinas)' 'Faroe Islands'\n",
      " 'Federated States Of Micronesia' 'Fiji' 'Finland' 'France (Europe)'\n",
      " 'France' 'French Guiana' 'French Polynesia'\n",
      " 'French Southern And Antarctic Lands' 'Gabon' 'Gambia' 'Gaza Strip'\n",
      " 'Georgia' 'Germany' 'Ghana' 'Greece' 'Greenland' 'Grenada' 'Guadeloupe'\n",
      " 'Guam' 'Guatemala' 'Guernsey' 'Guinea Bissau' 'Guinea' 'Guyana' 'Haiti'\n",
      " 'Heard Island And Mcdonald Islands' 'Honduras' 'Hong Kong' 'Hungary'\n",
      " 'Iceland' 'India' 'Indonesia' 'Iran' 'Iraq' 'Ireland' 'Isle Of Man'\n",
      " 'Israel' 'Italy' 'Jamaica' 'Japan' 'Jersey' 'Jordan' 'Kazakhstan' 'Kenya'\n",
      " 'Kingman Reef' 'Kiribati' 'Kuwait' 'Kyrgyzstan' 'Laos' 'Latvia' 'Lebanon'\n",
      " 'Lesotho' 'Liberia' 'Libya' 'Liechtenstein' 'Lithuania' 'Luxembourg'\n",
      " 'Macau' 'Macedonia' 'Madagascar' 'Malawi' 'Malaysia' 'Mali' 'Malta'\n",
      " 'Martinique' 'Mauritania' 'Mauritius' 'Mayotte' 'Mexico' 'Moldova'\n",
      " 'Monaco' 'Mongolia' 'Montenegro' 'Montserrat' 'Morocco' 'Mozambique'\n",
      " 'Namibia' 'Nepal' 'Netherlands (Europe)' 'Netherlands' 'New Caledonia'\n",
      " 'New Zealand' 'Nicaragua' 'Niger' 'Nigeria' 'Niue' 'North America'\n",
      " 'North Korea' 'Northern Mariana Islands' 'Norway' 'Oceania' 'Oman'\n",
      " 'Pakistan' 'Palau' 'Palestina' 'Palmyra Atoll' 'Panama'\n",
      " 'Papua New Guinea' 'Paraguay' 'Peru' 'Philippines' 'Poland' 'Portugal'\n",
      " 'Puerto Rico' 'Qatar' 'Reunion' 'Romania' 'Russia' 'Rwanda'\n",
      " 'Saint Barthélemy' 'Saint Kitts And Nevis' 'Saint Lucia' 'Saint Martin'\n",
      " 'Saint Pierre And Miquelon' 'Saint Vincent And The Grenadines' 'Samoa'\n",
      " 'San Marino' 'Sao Tome And Principe' 'Saudi Arabia' 'Senegal' 'Serbia'\n",
      " 'Seychelles' 'Sierra Leone' 'Singapore' 'Sint Maarten' 'Slovakia'\n",
      " 'Slovenia' 'Solomon Islands' 'Somalia' 'South Africa' 'South America'\n",
      " 'South Georgia And The South Sandwich Isla' 'South Korea' 'Spain'\n",
      " 'Sri Lanka' 'Sudan' 'Suriname' 'Svalbard And Jan Mayen' 'Swaziland'\n",
      " 'Sweden' 'Switzerland' 'Syria' 'Taiwan' 'Tajikistan' 'Tanzania'\n",
      " 'Thailand' 'Timor Leste' 'Togo' 'Tonga' 'Trinidad And Tobago' 'Tunisia'\n",
      " 'Turkey' 'Turkmenistan' 'Turks And Caicas Islands' 'Uganda' 'Ukraine'\n",
      " 'United Arab Emirates' 'United Kingdom (Europe)' 'United Kingdom'\n",
      " 'United States' 'Uruguay' 'Uzbekistan' 'Venezuela' 'Vietnam'\n",
      " 'Virgin Islands' 'Western Sahara' 'Yemen' 'Zambia' 'Zimbabwe']\n"
     ]
    }
   ],
   "source": [
    "# drop rows where \"AverageTemperature\" is missing\n",
    "data = data.dropna(subset=['AverageTemperature'])\n",
    "print(data.info())\n",
    "# inspect column Country\n",
    "print(data['Country'].unique())"
   ]
  },
  {
   "cell_type": "code",
   "execution_count": 5,
   "metadata": {},
   "outputs": [
    {
     "name": "stdout",
     "output_type": "stream",
     "text": [
      "(3166,)\n",
      "(3166,)\n",
      "0\n",
      "(3166,)\n",
      "(3166,)\n",
      "0\n",
      "(2288,)\n",
      "(3166,)\n",
      "0\n",
      "(3166,)\n",
      "(3166,)\n",
      "0\n",
      "           dt  AverageTemperature  AverageTemperatureUncertainty Country\n",
      "0  1743-11-01               4.384                          2.294   Åland\n",
      "5  1744-04-01               1.530                          4.680   Åland\n",
      "6  1744-05-01               6.702                          1.789   Åland\n",
      "7  1744-06-01              11.609                          1.577   Åland\n",
      "8  1744-07-01              15.342                          1.410   Åland\n"
     ]
    }
   ],
   "source": [
    "# Netherlands and Netherlands (Europe), Congo (Democratic Republic Of The)' and Congo, Denmark (Europe) and Denmark,\n",
    "# France (Europe) and France, United Kingdom (Europe) and United Kingdom\n",
    "#rename countries that may not be identified by Tableau\n",
    "data['Country'].replace({'Congo (Democratic Republic Of The)':'Congo'}, inplace=True)\n",
    "# inspect the country versus country (Europe)\n",
    "NL_dt = data.loc[data['Country'] == 'Netherlands', 'dt']\n",
    "print(NL_dt.shape)\n",
    "NL_EU_dt = data.loc[data['Country'] == 'Netherlands (Europe)', 'dt']\n",
    "print(NL_EU_dt.shape)\n",
    "diff = set(NL_dt) - set(NL_EU_dt)\n",
    "print(len(diff))\n",
    "FR_dt = data.loc[data['Country'] == 'France', 'dt']\n",
    "print(FR_dt.shape)\n",
    "FR_EU_dt = data.loc[data['Country'] == 'France (Europe)', 'dt']\n",
    "print(FR_EU_dt.shape)\n",
    "diff = set(FR_dt) - set(FR_EU_dt)\n",
    "print(len(diff))\n",
    "DE_dt = data.loc[data['Country'] == 'Denmark', 'dt']\n",
    "print(DE_dt.shape)\n",
    "DE_EU_dt = data.loc[data['Country'] == 'Denmark (Europe)', 'dt']\n",
    "print(DE_EU_dt.shape)\n",
    "diff = set(DE_dt) - set(DE_EU_dt)\n",
    "print(len(diff))\n",
    "UK_dt = data.loc[data['Country'] == 'United Kingdom', 'dt']\n",
    "print(UK_dt.shape)\n",
    "UK_EU_dt = data.loc[data['Country'] == 'United Kingdom (Europe)', 'dt']\n",
    "print(UK_EU_dt.shape)\n",
    "diff = set(UK_dt) - set(UK_EU_dt)\n",
    "print(len(diff))\n",
    "#drop country\n",
    "data = data[data['Country'] != 'Netherlands']\n",
    "data = data[data['Country'] != 'France']\n",
    "data = data[data['Country'] != 'Denmark']\n",
    "data = data[data['Country'] != 'United Kingdom']\n",
    "print(data.head())"
   ]
  },
  {
   "cell_type": "code",
   "execution_count": 6,
   "metadata": {},
   "outputs": [
    {
     "name": "stdout",
     "output_type": "stream",
     "text": [
      "237\n",
      "{'Albania', 'El Salvador', 'Haiti', 'Saint Vincent And The Grenadines', 'Kenya', 'Malaysia', 'Greenland', 'Mayotte', 'Sierra Leone', 'Central African Republic', 'Åland', 'Belarus', 'Sao Tome And Principe', 'Iceland', 'Afghanistan', 'Turkmenistan', 'Federated States Of Micronesia', 'Tanzania', 'Colombia', 'French Southern And Antarctic Lands', 'Cyprus', 'Namibia', 'North Korea', 'Romania', 'Turks And Caicas Islands', 'Yemen', 'Canada', 'Qatar', 'Portugal', 'Brazil', 'Georgia', 'Mozambique', 'Ethiopia', 'Azerbaijan', 'Zambia', 'Bolivia', 'Vietnam', 'Kyrgyzstan', 'Samoa', 'South Africa', 'Zimbabwe', 'Guyana', 'Curaçao', 'Africa', 'Cambodia', 'Croatia', 'Uzbekistan', 'Iran', 'Guinea Bissau', 'Ireland', 'Comoros', 'Macedonia', 'Mexico', 'North America', 'Honduras', 'Saint Pierre And Miquelon', 'Kingman Reef', 'Malta', 'Guinea', 'Austria', 'Sint Maarten', 'Syria', 'Cameroon', 'Timor Leste', 'New Zealand', 'Norway', 'Palau', 'Chile', 'Liechtenstein', 'South America', 'Australia', 'Senegal', 'Moldova', 'Botswana', 'Japan', 'Saudi Arabia', 'Bahrain', 'Turkey', 'Cayman Islands', 'Saint Barthélemy', 'Philippines', 'France', 'Lebanon', 'Ukraine', 'Mauritania', 'United Arab Emirates', 'Christmas Island', 'Bonaire, Saint Eustatius And Saba', 'Tajikistan', 'Burma', 'Serbia', 'Togo', 'Libya', 'Barbados', 'Russia', 'Heard Island And Mcdonald Islands', 'Monaco', 'Kiribati', 'Mongolia', 'Guadeloupe', 'Dominica', 'Antigua And Barbuda', \"Côte D'Ivoire\", 'Greece', 'Europe', 'Italy', 'Niger', 'Puerto Rico', 'Anguilla', 'Nicaragua', 'Gambia', 'Guernsey', 'Denmark', 'Gaza Strip', 'Guam', 'Benin', 'Singapore', 'Venezuela', 'Spain', 'Papua New Guinea', 'Uruguay', 'Rwanda', 'Reunion', 'Gabon', 'Saint Lucia', 'Isle Of Man', 'Tonga', 'Ghana', 'Estonia', 'Jamaica', 'Mauritius', 'Palestina', 'China', 'American Samoa', 'Malawi', 'Swaziland', 'Cape Verde', 'Nigeria', 'Nepal', 'India', 'Lithuania', 'Egypt', 'Iraq', 'Kuwait', 'Palmyra Atoll', 'Falkland Islands (Islas Malvinas)', 'Latvia', 'Panama', 'Belize', 'Germany', 'South Korea', 'Belgium', 'Slovakia', 'Martinique', 'Poland', 'Saint Martin', 'United States', 'Grenada', 'Sudan', 'Bhutan', 'French Polynesia', 'Jersey', 'Trinidad And Tobago', 'Sweden', 'United Kingdom', 'Netherlands', 'Liberia', 'Pakistan', 'Dominican Republic', 'Baker Island', 'Hungary', 'French Guiana', 'Paraguay', 'Burkina Faso', 'Montenegro', 'Northern Mariana Islands', 'South Georgia And The South Sandwich Isla', 'Ecuador', 'Asia', 'Aruba', 'Congo', 'Cuba', 'Czech Republic', 'Guatemala', 'Israel', 'Bosnia And Herzegovina', 'Bangladesh', 'Somalia', 'San Marino', 'Switzerland', 'Madagascar', 'Svalbard And Jan Mayen', 'Bulgaria', 'Faroe Islands', 'Peru', 'Thailand', 'Equatorial Guinea', 'Macau', 'Niue', 'Bahamas', 'Oceania', 'Djibouti', 'Angola', 'Chad', 'Armenia', 'Fiji', 'Slovenia', 'Laos', 'Montserrat', 'Uganda', 'Virgin Islands', 'Lesotho', 'Suriname', 'Sri Lanka', 'Algeria', 'Solomon Islands', 'Western Sahara', 'Andorra', 'Jordan', 'Mali', 'Costa Rica', 'Luxembourg', 'New Caledonia', 'Burundi', 'Seychelles', 'Oman', 'Argentina', 'Taiwan', 'Tunisia', 'Eritrea', 'British Virgin Islands', 'Saint Kitts And Nevis', 'Finland', 'Kazakhstan', 'Hong Kong', 'Morocco', 'Indonesia'}\n"
     ]
    }
   ],
   "source": [
    "# rename country(Europe) to country\n",
    "data['Country'].replace({'Netherlands (Europe)':'Netherlands', 'Denmark (Europe)':'Denmark', 'France (Europe)':'France', 'United Kingdom (Europe)':'United Kingdom'}, inplace=True)\n",
    "countries = set(data['Country'].unique())\n",
    "print(len(countries))\n",
    "print(countries)"
   ]
  },
  {
   "cell_type": "code",
   "execution_count": 7,
   "metadata": {},
   "outputs": [],
   "source": [
    "#drop islands\n",
    "Islands = ['Åland', 'American Samoa', 'Antigua And Barbuda', 'Baker Island', 'Bonaire, Saint Eustatius And Saba', 'British Virgin Islands',\n",
    "           'Burma', 'Cayman Islands', \"Côte D'Ivoire\", 'Curaçao', 'Falkland Islands (Islas Malvinas)', 'Faroe Islands',\n",
    "           'Federated States Of Micronesia', 'French Southern And Antarctic Lands', 'Gaza Strip', 'Guernsey', 'Guinea Bissau',\n",
    "           'Guadeloupe','Heard Island And Mcdonald Islands', 'Isle Of Man', 'Jersey', 'Kingman Reef', 'Macau', 'Martinique',\n",
    "           'Northern Mariana Islands','Palmyra Atoll', 'Puerto Rico', 'Saint Barthélemy', 'Saint Kitts And Nevis',\n",
    "           'Saint Martin', 'Saint Pierre And Miquelon', 'Saint Vincent And The Grenadines', 'San Marino', 'Sao Tome And Principe',\n",
    "           'Sint Maarten', 'Sint Maarten (Dutch part)', 'South Georgia And The South Sandwich Isla','Svalbard And Jan Mayen',\n",
    "           'Trinidad And Tobago', 'Turks And Caicas Islands', 'Virgin Islands']"
   ]
  },
  {
   "cell_type": "code",
   "execution_count": 8,
   "metadata": {},
   "outputs": [],
   "source": [
    "data = data[~data['Country'].isin(Islands)]"
   ]
  },
  {
   "cell_type": "code",
   "execution_count": 9,
   "metadata": {},
   "outputs": [
    {
     "name": "stdout",
     "output_type": "stream",
     "text": [
      "197\n",
      "{'Albania', 'El Salvador', 'Haiti', 'Kenya', 'Malaysia', 'Greenland', 'Mayotte', 'Sierra Leone', 'Central African Republic', 'Belarus', 'Iceland', 'Afghanistan', 'Turkmenistan', 'Tanzania', 'Colombia', 'Cyprus', 'Namibia', 'North Korea', 'Romania', 'Yemen', 'Canada', 'Qatar', 'Portugal', 'Brazil', 'Georgia', 'Mozambique', 'Ethiopia', 'Azerbaijan', 'Zambia', 'Bolivia', 'Vietnam', 'Kyrgyzstan', 'Samoa', 'South Africa', 'Zimbabwe', 'Guyana', 'Africa', 'Cambodia', 'Croatia', 'Uzbekistan', 'Iran', 'Ireland', 'Comoros', 'Macedonia', 'Mexico', 'North America', 'Honduras', 'Malta', 'Guinea', 'Austria', 'Syria', 'Cameroon', 'Timor Leste', 'New Zealand', 'Norway', 'Palau', 'Chile', 'Liechtenstein', 'South America', 'Australia', 'Senegal', 'Moldova', 'Botswana', 'Japan', 'Saudi Arabia', 'Bahrain', 'Turkey', 'Philippines', 'France', 'Lebanon', 'Ukraine', 'Mauritania', 'United Arab Emirates', 'Christmas Island', 'Tajikistan', 'Serbia', 'Togo', 'Libya', 'Barbados', 'Russia', 'Monaco', 'Kiribati', 'Mongolia', 'Dominica', 'Greece', 'Italy', 'Europe', 'Niger', 'Anguilla', 'Nicaragua', 'Gambia', 'Denmark', 'Guam', 'Benin', 'Singapore', 'Venezuela', 'Spain', 'Papua New Guinea', 'Uruguay', 'Rwanda', 'Reunion', 'Gabon', 'Saint Lucia', 'Tonga', 'Ghana', 'Estonia', 'Jamaica', 'Mauritius', 'Palestina', 'China', 'Swaziland', 'Malawi', 'Cape Verde', 'Nigeria', 'Nepal', 'India', 'Lithuania', 'Egypt', 'Iraq', 'Kuwait', 'Latvia', 'Panama', 'Belize', 'Germany', 'South Korea', 'Belgium', 'Slovakia', 'Poland', 'United States', 'Grenada', 'Sudan', 'Bhutan', 'French Polynesia', 'Sweden', 'United Kingdom', 'Netherlands', 'Liberia', 'Pakistan', 'Dominican Republic', 'Hungary', 'French Guiana', 'Paraguay', 'Burkina Faso', 'Montenegro', 'Ecuador', 'Asia', 'Aruba', 'Congo', 'Cuba', 'Czech Republic', 'Guatemala', 'Israel', 'Bosnia And Herzegovina', 'Bangladesh', 'Somalia', 'Switzerland', 'Madagascar', 'Bulgaria', 'Peru', 'Thailand', 'Equatorial Guinea', 'Niue', 'Bahamas', 'Oceania', 'Djibouti', 'Angola', 'Chad', 'Armenia', 'Fiji', 'Slovenia', 'Laos', 'Montserrat', 'Uganda', 'Lesotho', 'Suriname', 'Sri Lanka', 'Algeria', 'Solomon Islands', 'Western Sahara', 'Andorra', 'Jordan', 'Mali', 'Costa Rica', 'Luxembourg', 'New Caledonia', 'Burundi', 'Seychelles', 'Oman', 'Argentina', 'Taiwan', 'Tunisia', 'Eritrea', 'Finland', 'Kazakhstan', 'Hong Kong', 'Morocco', 'Indonesia'}\n"
     ]
    }
   ],
   "source": [
    "countries = set(data['Country'].unique())\n",
    "print(len(countries))\n",
    "print(countries)"
   ]
  },
  {
   "cell_type": "code",
   "execution_count": 10,
   "metadata": {},
   "outputs": [],
   "source": [
    "# drop continents\n",
    "Continents = ['Africa', 'Asia', 'North America', 'South America', 'Europe', 'Oceania']\n",
    "data = data[~data['Country'].isin(Continents)]"
   ]
  },
  {
   "cell_type": "code",
   "execution_count": 11,
   "metadata": {},
   "outputs": [
    {
     "data": {
      "text/html": [
       "<div>\n",
       "<style scoped>\n",
       "    .dataframe tbody tr th:only-of-type {\n",
       "        vertical-align: middle;\n",
       "    }\n",
       "\n",
       "    .dataframe tbody tr th {\n",
       "        vertical-align: top;\n",
       "    }\n",
       "\n",
       "    .dataframe thead th {\n",
       "        text-align: right;\n",
       "    }\n",
       "</style>\n",
       "<table border=\"1\" class=\"dataframe\">\n",
       "  <thead>\n",
       "    <tr style=\"text-align: right;\">\n",
       "      <th></th>\n",
       "      <th>dt</th>\n",
       "      <th>AverageTemperature</th>\n",
       "      <th>AverageTemperatureUncertainty</th>\n",
       "      <th>Country</th>\n",
       "    </tr>\n",
       "  </thead>\n",
       "  <tbody>\n",
       "    <tr>\n",
       "      <th>3239</th>\n",
       "      <td>1838-04-01</td>\n",
       "      <td>13.008</td>\n",
       "      <td>2.586</td>\n",
       "      <td>Afghanistan</td>\n",
       "    </tr>\n",
       "    <tr>\n",
       "      <th>3241</th>\n",
       "      <td>1838-06-01</td>\n",
       "      <td>23.950</td>\n",
       "      <td>2.510</td>\n",
       "      <td>Afghanistan</td>\n",
       "    </tr>\n",
       "    <tr>\n",
       "      <th>3242</th>\n",
       "      <td>1838-07-01</td>\n",
       "      <td>26.877</td>\n",
       "      <td>2.883</td>\n",
       "      <td>Afghanistan</td>\n",
       "    </tr>\n",
       "    <tr>\n",
       "      <th>3243</th>\n",
       "      <td>1838-08-01</td>\n",
       "      <td>24.938</td>\n",
       "      <td>2.992</td>\n",
       "      <td>Afghanistan</td>\n",
       "    </tr>\n",
       "    <tr>\n",
       "      <th>3244</th>\n",
       "      <td>1838-09-01</td>\n",
       "      <td>18.981</td>\n",
       "      <td>2.538</td>\n",
       "      <td>Afghanistan</td>\n",
       "    </tr>\n",
       "  </tbody>\n",
       "</table>\n",
       "</div>"
      ],
      "text/plain": [
       "              dt  AverageTemperature  AverageTemperatureUncertainty  \\\n",
       "3239  1838-04-01              13.008                          2.586   \n",
       "3241  1838-06-01              23.950                          2.510   \n",
       "3242  1838-07-01              26.877                          2.883   \n",
       "3243  1838-08-01              24.938                          2.992   \n",
       "3244  1838-09-01              18.981                          2.538   \n",
       "\n",
       "          Country  \n",
       "3239  Afghanistan  \n",
       "3241  Afghanistan  \n",
       "3242  Afghanistan  \n",
       "3243  Afghanistan  \n",
       "3244  Afghanistan  "
      ]
     },
     "execution_count": 11,
     "metadata": {},
     "output_type": "execute_result"
    }
   ],
   "source": [
    "data.head()"
   ]
  },
  {
   "cell_type": "code",
   "execution_count": 12,
   "metadata": {},
   "outputs": [
    {
     "name": "stdout",
     "output_type": "stream",
     "text": [
      "<class 'pandas.core.frame.DataFrame'>\n",
      "Int64Index: 433827 entries, 3239 to 577460\n",
      "Data columns (total 6 columns):\n",
      " #   Column                         Non-Null Count   Dtype  \n",
      "---  ------                         --------------   -----  \n",
      " 0   dt                             433827 non-null  object \n",
      " 1   AverageTemperature             433827 non-null  float64\n",
      " 2   AverageTemperatureUncertainty  433827 non-null  float64\n",
      " 3   Country                        433827 non-null  object \n",
      " 4   Year                           433827 non-null  int32  \n",
      " 5   Month                          433827 non-null  int32  \n",
      "dtypes: float64(2), int32(2), object(2)\n",
      "memory usage: 19.9+ MB\n",
      "None\n"
     ]
    }
   ],
   "source": [
    "# split year and month information in separate columns\n",
    "# rename first column to value\n",
    "# drop first column\n",
    "data['Year'] = data.iloc[:, 0].apply(lambda x: x.split(\"-\")[0]).astype(int)\n",
    "data['Month'] = data.iloc[:, 0].apply(lambda x: x.split(\"-\")[1]).astype(int)\n",
    "print(data.info())"
   ]
  },
  {
   "cell_type": "code",
   "execution_count": 13,
   "metadata": {},
   "outputs": [
    {
     "name": "stdout",
     "output_type": "stream",
     "text": [
      "1743\n",
      "2013\n",
      "[2304 2303 2300 2292 2290 2289 2288 2287 2286 2282 2262 2207 2197 2192\n",
      " 2188 2164 2145 2140 2138 2136 2130 2128 2102 2099 2092 2001 1968 1931\n",
      " 1916 1915 1890 1872 1842 1828 1783 1752 1750 1749 1746 1691 1689 1680\n",
      " 1678 1664 1639 1636 1631 1619 1565 1556 1550 1512 1459 1358 1338 1332\n",
      " 1312 1289 1230 1218 1207 1194 1176 1127 1079 1066 1052 1050 1033 1014\n",
      " 1005  974  972  936  916  912  878  869  850  839  822  794  779  748\n",
      "  747  722  720  704  691  670  666  664  658  648  644  639  636  632\n",
      "  626  624  623  616  615  606  597  590  575  570  565  542  539  537\n",
      "  533  532  530  528  524  516  513  510  505  504  429  312  234  156\n",
      "   39]\n"
     ]
    }
   ],
   "source": [
    "# verify dates\n",
    "print(data['Year'].min())\n",
    "print(data['Year'].max())\n",
    "year_counts = data['Year'].value_counts()\n",
    "print(year_counts.unique())"
   ]
  },
  {
   "cell_type": "code",
   "execution_count": 14,
   "metadata": {},
   "outputs": [],
   "source": [
    "data['dt'] = data['dt'].apply(lambda x: x[0:7])"
   ]
  },
  {
   "cell_type": "code",
   "execution_count": 15,
   "metadata": {},
   "outputs": [
    {
     "name": "stdout",
     "output_type": "stream",
     "text": [
      "           dt  AverageTemperature  AverageTemperatureUncertainty      Country  \\\n",
      "3239  1838-04              13.008                          2.586  Afghanistan   \n",
      "3241  1838-06              23.950                          2.510  Afghanistan   \n",
      "3242  1838-07              26.877                          2.883  Afghanistan   \n",
      "3243  1838-08              24.938                          2.992  Afghanistan   \n",
      "3244  1838-09              18.981                          2.538  Afghanistan   \n",
      "\n",
      "      Year  Month  \n",
      "3239  1838      4  \n",
      "3241  1838      6  \n",
      "3242  1838      7  \n",
      "3243  1838      8  \n",
      "3244  1838      9  \n"
     ]
    }
   ],
   "source": [
    "print(data.head())"
   ]
  },
  {
   "cell_type": "code",
   "execution_count": 16,
   "metadata": {},
   "outputs": [
    {
     "name": "stdout",
     "output_type": "stream",
     "text": [
      "       Country  Month       mean\n",
      "0  Afghanistan      1   0.620000\n",
      "1  Afghanistan      2   3.320033\n",
      "2  Afghanistan      3   8.710067\n",
      "3  Afghanistan      4  14.620067\n",
      "4  Afghanistan      5  19.900000\n",
      "<class 'pandas.core.frame.DataFrame'>\n",
      "RangeIndex: 2292 entries, 0 to 2291\n",
      "Data columns (total 3 columns):\n",
      " #   Column   Non-Null Count  Dtype  \n",
      "---  ------   --------------  -----  \n",
      " 0   Country  2292 non-null   object \n",
      " 1   Month    2292 non-null   int64  \n",
      " 2   mean     2292 non-null   float64\n",
      "dtypes: float64(1), int64(1), object(1)\n",
      "memory usage: 53.8+ KB\n",
      "None\n"
     ]
    }
   ],
   "source": [
    "# calculate anomalies based on average over the 30-year period 1951-1980\n",
    "#subset dataframe by years 1951 - 1980\n",
    "data_mean = data[(data['Year'] < 1981) & (data['Year'] >= 1951)]\n",
    "data_mean = data_mean.drop(['Year', 'dt', 'AverageTemperatureUncertainty'], axis=1)\n",
    "#print(data_mean.shape)\n",
    "#print(data_mean.head())\n",
    "#print(data_mean.tail())\n",
    "# calculate mean\n",
    "mean = (data_mean.groupby(['Country', 'Month']).agg({'AverageTemperature': ['mean']}))\n",
    "mean.columns = ['mean']\n",
    "mean = mean.reset_index()\n",
    "print(mean.head())\n",
    "print(mean.info())\n",
    "mean.to_csv('mean.csv')"
   ]
  },
  {
   "cell_type": "code",
   "execution_count": 17,
   "metadata": {},
   "outputs": [],
   "source": [
    "data_merged_left = pd.merge(left=data, right=mean, how='left', left_on=['Country', 'Month'], right_on=['Country', 'Month'])"
   ]
  },
  {
   "cell_type": "code",
   "execution_count": 18,
   "metadata": {},
   "outputs": [
    {
     "name": "stdout",
     "output_type": "stream",
     "text": [
      "(433827, 7)\n"
     ]
    }
   ],
   "source": [
    "print(data_merged_left.shape)"
   ]
  },
  {
   "cell_type": "code",
   "execution_count": 19,
   "metadata": {},
   "outputs": [
    {
     "name": "stdout",
     "output_type": "stream",
     "text": [
      "        dt  AverageTemperature  AverageTemperatureUncertainty      Country  \\\n",
      "0  1838-04              13.008                          2.586  Afghanistan   \n",
      "1  1838-06              23.950                          2.510  Afghanistan   \n",
      "2  1838-07              26.877                          2.883  Afghanistan   \n",
      "3  1838-08              24.938                          2.992  Afghanistan   \n",
      "4  1838-09              18.981                          2.538  Afghanistan   \n",
      "\n",
      "   Year  Month       mean  \n",
      "0  1838      4  14.620067  \n",
      "1  1838      6  24.809933  \n",
      "2  1838      7  26.710067  \n",
      "3  1838      8  25.010067  \n",
      "4  1838      9  20.400033  \n"
     ]
    }
   ],
   "source": [
    "print(data_merged_left.head())"
   ]
  },
  {
   "cell_type": "code",
   "execution_count": 20,
   "metadata": {},
   "outputs": [
    {
     "name": "stdout",
     "output_type": "stream",
     "text": [
      "             dt  AverageTemperature  AverageTemperatureUncertainty   Country  \\\n",
      "433822  2013-04              21.142                          0.495  Zimbabwe   \n",
      "433823  2013-05              19.059                          1.022  Zimbabwe   \n",
      "433824  2013-06              17.613                          0.473  Zimbabwe   \n",
      "433825  2013-07              17.000                          0.453  Zimbabwe   \n",
      "433826  2013-08              19.759                          0.717  Zimbabwe   \n",
      "\n",
      "        Year  Month       mean  \n",
      "433822  2013      4  21.239933  \n",
      "433823  2013      5  18.619967  \n",
      "433824  2013      6  15.969933  \n",
      "433825  2013      7  15.870100  \n",
      "433826  2013      8  18.359933  \n"
     ]
    }
   ],
   "source": [
    "print(data_merged_left.tail())"
   ]
  },
  {
   "cell_type": "code",
   "execution_count": 21,
   "metadata": {},
   "outputs": [],
   "source": [
    "data_merged_left['Anom'] = data_merged_left['AverageTemperature'] - data_merged_left['mean']"
   ]
  },
  {
   "cell_type": "code",
   "execution_count": 22,
   "metadata": {},
   "outputs": [
    {
     "name": "stdout",
     "output_type": "stream",
     "text": [
      "        dt  AverageTemperature  AverageTemperatureUncertainty      Country  \\\n",
      "0  1838-04              13.008                          2.586  Afghanistan   \n",
      "1  1838-06              23.950                          2.510  Afghanistan   \n",
      "2  1838-07              26.877                          2.883  Afghanistan   \n",
      "3  1838-08              24.938                          2.992  Afghanistan   \n",
      "4  1838-09              18.981                          2.538  Afghanistan   \n",
      "\n",
      "   Year  Month       mean      Anom  \n",
      "0  1838      4  14.620067 -1.612067  \n",
      "1  1838      6  24.809933 -0.859933  \n",
      "2  1838      7  26.710067  0.166933  \n",
      "3  1838      8  25.010067 -0.072067  \n",
      "4  1838      9  20.400033 -1.419033  \n"
     ]
    }
   ],
   "source": [
    "print(data_merged_left.head())"
   ]
  },
  {
   "cell_type": "code",
   "execution_count": 23,
   "metadata": {},
   "outputs": [],
   "source": [
    "data = data_merged_left"
   ]
  },
  {
   "cell_type": "code",
   "execution_count": 24,
   "metadata": {},
   "outputs": [
    {
     "data": {
      "text/html": [
       "<div>\n",
       "<style scoped>\n",
       "    .dataframe tbody tr th:only-of-type {\n",
       "        vertical-align: middle;\n",
       "    }\n",
       "\n",
       "    .dataframe tbody tr th {\n",
       "        vertical-align: top;\n",
       "    }\n",
       "\n",
       "    .dataframe thead th {\n",
       "        text-align: right;\n",
       "    }\n",
       "</style>\n",
       "<table border=\"1\" class=\"dataframe\">\n",
       "  <thead>\n",
       "    <tr style=\"text-align: right;\">\n",
       "      <th></th>\n",
       "      <th>dt</th>\n",
       "      <th>AverageTemperature</th>\n",
       "      <th>AverageTemperatureUncertainty</th>\n",
       "      <th>Country</th>\n",
       "      <th>Year</th>\n",
       "      <th>Month</th>\n",
       "      <th>mean</th>\n",
       "      <th>Anom</th>\n",
       "    </tr>\n",
       "  </thead>\n",
       "  <tbody>\n",
       "    <tr>\n",
       "      <th>0</th>\n",
       "      <td>1838-04</td>\n",
       "      <td>13.008</td>\n",
       "      <td>2.586</td>\n",
       "      <td>Afghanistan</td>\n",
       "      <td>1838</td>\n",
       "      <td>4</td>\n",
       "      <td>14.620067</td>\n",
       "      <td>-1.612067</td>\n",
       "    </tr>\n",
       "    <tr>\n",
       "      <th>1</th>\n",
       "      <td>1838-06</td>\n",
       "      <td>23.950</td>\n",
       "      <td>2.510</td>\n",
       "      <td>Afghanistan</td>\n",
       "      <td>1838</td>\n",
       "      <td>6</td>\n",
       "      <td>24.809933</td>\n",
       "      <td>-0.859933</td>\n",
       "    </tr>\n",
       "    <tr>\n",
       "      <th>2</th>\n",
       "      <td>1838-07</td>\n",
       "      <td>26.877</td>\n",
       "      <td>2.883</td>\n",
       "      <td>Afghanistan</td>\n",
       "      <td>1838</td>\n",
       "      <td>7</td>\n",
       "      <td>26.710067</td>\n",
       "      <td>0.166933</td>\n",
       "    </tr>\n",
       "    <tr>\n",
       "      <th>3</th>\n",
       "      <td>1838-08</td>\n",
       "      <td>24.938</td>\n",
       "      <td>2.992</td>\n",
       "      <td>Afghanistan</td>\n",
       "      <td>1838</td>\n",
       "      <td>8</td>\n",
       "      <td>25.010067</td>\n",
       "      <td>-0.072067</td>\n",
       "    </tr>\n",
       "    <tr>\n",
       "      <th>4</th>\n",
       "      <td>1838-09</td>\n",
       "      <td>18.981</td>\n",
       "      <td>2.538</td>\n",
       "      <td>Afghanistan</td>\n",
       "      <td>1838</td>\n",
       "      <td>9</td>\n",
       "      <td>20.400033</td>\n",
       "      <td>-1.419033</td>\n",
       "    </tr>\n",
       "  </tbody>\n",
       "</table>\n",
       "</div>"
      ],
      "text/plain": [
       "        dt  AverageTemperature  AverageTemperatureUncertainty      Country  \\\n",
       "0  1838-04              13.008                          2.586  Afghanistan   \n",
       "1  1838-06              23.950                          2.510  Afghanistan   \n",
       "2  1838-07              26.877                          2.883  Afghanistan   \n",
       "3  1838-08              24.938                          2.992  Afghanistan   \n",
       "4  1838-09              18.981                          2.538  Afghanistan   \n",
       "\n",
       "   Year  Month       mean      Anom  \n",
       "0  1838      4  14.620067 -1.612067  \n",
       "1  1838      6  24.809933 -0.859933  \n",
       "2  1838      7  26.710067  0.166933  \n",
       "3  1838      8  25.010067 -0.072067  \n",
       "4  1838      9  20.400033 -1.419033  "
      ]
     },
     "execution_count": 24,
     "metadata": {},
     "output_type": "execute_result"
    }
   ],
   "source": [
    "data.head()"
   ]
  },
  {
   "cell_type": "code",
   "execution_count": 25,
   "metadata": {},
   "outputs": [],
   "source": [
    "# calculate the difference between the anomaly ad the Average Temperature Uncertainty\n",
    "data['Anom2'] = data['Anom'] - data['AverageTemperatureUncertainty']"
   ]
  },
  {
   "cell_type": "code",
   "execution_count": 26,
   "metadata": {},
   "outputs": [
    {
     "data": {
      "text/html": [
       "<div>\n",
       "<style scoped>\n",
       "    .dataframe tbody tr th:only-of-type {\n",
       "        vertical-align: middle;\n",
       "    }\n",
       "\n",
       "    .dataframe tbody tr th {\n",
       "        vertical-align: top;\n",
       "    }\n",
       "\n",
       "    .dataframe thead th {\n",
       "        text-align: right;\n",
       "    }\n",
       "</style>\n",
       "<table border=\"1\" class=\"dataframe\">\n",
       "  <thead>\n",
       "    <tr style=\"text-align: right;\">\n",
       "      <th></th>\n",
       "      <th>dt</th>\n",
       "      <th>AverageTemperature</th>\n",
       "      <th>AverageTemperatureUncertainty</th>\n",
       "      <th>Country</th>\n",
       "      <th>Year</th>\n",
       "      <th>Month</th>\n",
       "      <th>mean</th>\n",
       "      <th>Anom</th>\n",
       "      <th>Anom2</th>\n",
       "    </tr>\n",
       "  </thead>\n",
       "  <tbody>\n",
       "    <tr>\n",
       "      <th>0</th>\n",
       "      <td>1838-04</td>\n",
       "      <td>13.008</td>\n",
       "      <td>2.586</td>\n",
       "      <td>Afghanistan</td>\n",
       "      <td>1838</td>\n",
       "      <td>4</td>\n",
       "      <td>14.620067</td>\n",
       "      <td>-1.612067</td>\n",
       "      <td>-4.198067</td>\n",
       "    </tr>\n",
       "    <tr>\n",
       "      <th>1</th>\n",
       "      <td>1838-06</td>\n",
       "      <td>23.950</td>\n",
       "      <td>2.510</td>\n",
       "      <td>Afghanistan</td>\n",
       "      <td>1838</td>\n",
       "      <td>6</td>\n",
       "      <td>24.809933</td>\n",
       "      <td>-0.859933</td>\n",
       "      <td>-3.369933</td>\n",
       "    </tr>\n",
       "    <tr>\n",
       "      <th>2</th>\n",
       "      <td>1838-07</td>\n",
       "      <td>26.877</td>\n",
       "      <td>2.883</td>\n",
       "      <td>Afghanistan</td>\n",
       "      <td>1838</td>\n",
       "      <td>7</td>\n",
       "      <td>26.710067</td>\n",
       "      <td>0.166933</td>\n",
       "      <td>-2.716067</td>\n",
       "    </tr>\n",
       "    <tr>\n",
       "      <th>3</th>\n",
       "      <td>1838-08</td>\n",
       "      <td>24.938</td>\n",
       "      <td>2.992</td>\n",
       "      <td>Afghanistan</td>\n",
       "      <td>1838</td>\n",
       "      <td>8</td>\n",
       "      <td>25.010067</td>\n",
       "      <td>-0.072067</td>\n",
       "      <td>-3.064067</td>\n",
       "    </tr>\n",
       "    <tr>\n",
       "      <th>4</th>\n",
       "      <td>1838-09</td>\n",
       "      <td>18.981</td>\n",
       "      <td>2.538</td>\n",
       "      <td>Afghanistan</td>\n",
       "      <td>1838</td>\n",
       "      <td>9</td>\n",
       "      <td>20.400033</td>\n",
       "      <td>-1.419033</td>\n",
       "      <td>-3.957033</td>\n",
       "    </tr>\n",
       "  </tbody>\n",
       "</table>\n",
       "</div>"
      ],
      "text/plain": [
       "        dt  AverageTemperature  AverageTemperatureUncertainty      Country  \\\n",
       "0  1838-04              13.008                          2.586  Afghanistan   \n",
       "1  1838-06              23.950                          2.510  Afghanistan   \n",
       "2  1838-07              26.877                          2.883  Afghanistan   \n",
       "3  1838-08              24.938                          2.992  Afghanistan   \n",
       "4  1838-09              18.981                          2.538  Afghanistan   \n",
       "\n",
       "   Year  Month       mean      Anom     Anom2  \n",
       "0  1838      4  14.620067 -1.612067 -4.198067  \n",
       "1  1838      6  24.809933 -0.859933 -3.369933  \n",
       "2  1838      7  26.710067  0.166933 -2.716067  \n",
       "3  1838      8  25.010067 -0.072067 -3.064067  \n",
       "4  1838      9  20.400033 -1.419033 -3.957033  "
      ]
     },
     "execution_count": 26,
     "metadata": {},
     "output_type": "execute_result"
    }
   ],
   "source": [
    "data.head()"
   ]
  },
  {
   "cell_type": "code",
   "execution_count": 27,
   "metadata": {},
   "outputs": [],
   "source": [
    "conditions = [(abs(data['Anom2']) <= data['AverageTemperatureUncertainty']), (abs(data['Anom2']) > data['AverageTemperatureUncertainty'])]"
   ]
  },
  {
   "cell_type": "code",
   "execution_count": 28,
   "metadata": {},
   "outputs": [],
   "source": [
    "choices = [0, data['Anom2']]"
   ]
  },
  {
   "cell_type": "code",
   "execution_count": 29,
   "metadata": {},
   "outputs": [],
   "source": [
    "# create new column 'Anom3' to store only those anomalies that fall out of the range of the Average Temperature Uncertainty\n",
    "data['Anom3'] = np.select(conditions, choices, default=np.nan)"
   ]
  },
  {
   "cell_type": "code",
   "execution_count": 30,
   "metadata": {},
   "outputs": [
    {
     "data": {
      "text/html": [
       "<div>\n",
       "<style scoped>\n",
       "    .dataframe tbody tr th:only-of-type {\n",
       "        vertical-align: middle;\n",
       "    }\n",
       "\n",
       "    .dataframe tbody tr th {\n",
       "        vertical-align: top;\n",
       "    }\n",
       "\n",
       "    .dataframe thead th {\n",
       "        text-align: right;\n",
       "    }\n",
       "</style>\n",
       "<table border=\"1\" class=\"dataframe\">\n",
       "  <thead>\n",
       "    <tr style=\"text-align: right;\">\n",
       "      <th></th>\n",
       "      <th>dt</th>\n",
       "      <th>AverageTemperature</th>\n",
       "      <th>AverageTemperatureUncertainty</th>\n",
       "      <th>Country</th>\n",
       "      <th>Year</th>\n",
       "      <th>Month</th>\n",
       "      <th>mean</th>\n",
       "      <th>Anom</th>\n",
       "      <th>Anom2</th>\n",
       "      <th>Anom3</th>\n",
       "    </tr>\n",
       "  </thead>\n",
       "  <tbody>\n",
       "    <tr>\n",
       "      <th>0</th>\n",
       "      <td>1838-04</td>\n",
       "      <td>13.008</td>\n",
       "      <td>2.586</td>\n",
       "      <td>Afghanistan</td>\n",
       "      <td>1838</td>\n",
       "      <td>4</td>\n",
       "      <td>14.620067</td>\n",
       "      <td>-1.612067</td>\n",
       "      <td>-4.198067</td>\n",
       "      <td>-4.198067</td>\n",
       "    </tr>\n",
       "    <tr>\n",
       "      <th>1</th>\n",
       "      <td>1838-06</td>\n",
       "      <td>23.950</td>\n",
       "      <td>2.510</td>\n",
       "      <td>Afghanistan</td>\n",
       "      <td>1838</td>\n",
       "      <td>6</td>\n",
       "      <td>24.809933</td>\n",
       "      <td>-0.859933</td>\n",
       "      <td>-3.369933</td>\n",
       "      <td>-3.369933</td>\n",
       "    </tr>\n",
       "    <tr>\n",
       "      <th>2</th>\n",
       "      <td>1838-07</td>\n",
       "      <td>26.877</td>\n",
       "      <td>2.883</td>\n",
       "      <td>Afghanistan</td>\n",
       "      <td>1838</td>\n",
       "      <td>7</td>\n",
       "      <td>26.710067</td>\n",
       "      <td>0.166933</td>\n",
       "      <td>-2.716067</td>\n",
       "      <td>0.000000</td>\n",
       "    </tr>\n",
       "    <tr>\n",
       "      <th>3</th>\n",
       "      <td>1838-08</td>\n",
       "      <td>24.938</td>\n",
       "      <td>2.992</td>\n",
       "      <td>Afghanistan</td>\n",
       "      <td>1838</td>\n",
       "      <td>8</td>\n",
       "      <td>25.010067</td>\n",
       "      <td>-0.072067</td>\n",
       "      <td>-3.064067</td>\n",
       "      <td>-3.064067</td>\n",
       "    </tr>\n",
       "    <tr>\n",
       "      <th>4</th>\n",
       "      <td>1838-09</td>\n",
       "      <td>18.981</td>\n",
       "      <td>2.538</td>\n",
       "      <td>Afghanistan</td>\n",
       "      <td>1838</td>\n",
       "      <td>9</td>\n",
       "      <td>20.400033</td>\n",
       "      <td>-1.419033</td>\n",
       "      <td>-3.957033</td>\n",
       "      <td>-3.957033</td>\n",
       "    </tr>\n",
       "  </tbody>\n",
       "</table>\n",
       "</div>"
      ],
      "text/plain": [
       "        dt  AverageTemperature  AverageTemperatureUncertainty      Country  \\\n",
       "0  1838-04              13.008                          2.586  Afghanistan   \n",
       "1  1838-06              23.950                          2.510  Afghanistan   \n",
       "2  1838-07              26.877                          2.883  Afghanistan   \n",
       "3  1838-08              24.938                          2.992  Afghanistan   \n",
       "4  1838-09              18.981                          2.538  Afghanistan   \n",
       "\n",
       "   Year  Month       mean      Anom     Anom2     Anom3  \n",
       "0  1838      4  14.620067 -1.612067 -4.198067 -4.198067  \n",
       "1  1838      6  24.809933 -0.859933 -3.369933 -3.369933  \n",
       "2  1838      7  26.710067  0.166933 -2.716067  0.000000  \n",
       "3  1838      8  25.010067 -0.072067 -3.064067 -3.064067  \n",
       "4  1838      9  20.400033 -1.419033 -3.957033 -3.957033  "
      ]
     },
     "execution_count": 30,
     "metadata": {},
     "output_type": "execute_result"
    }
   ],
   "source": [
    "data.head()"
   ]
  },
  {
   "cell_type": "code",
   "execution_count": 31,
   "metadata": {},
   "outputs": [],
   "source": [
    "# inform region\n",
    "# create lists of countries per region\n",
    "Africa = ['Botswana', 'Burundi', 'Comoros', 'Djibouti', 'Eritrea', 'Ethiopia', 'Kenya', 'Madagascar', 'Malawi',\n",
    "          'Mauritius', 'Mayotte', 'Mozambique', 'Reunion', 'Rwanda', 'Seychelles', 'Somalia', 'Tanzania', 'Uganda',\n",
    "          'Zambia', 'Zimbabwe', 'Angola', 'Cameroon', 'Central African Republic', 'Chad', 'Congo', 'Equatorial Guinea',\n",
    "          'Gabon', 'Sao Tome', 'Principe', 'Algeria', 'Egypt', 'Libya', 'Morocco', 'South Sudan', 'Tunisia',\n",
    "          'Western Sahara', 'Benin', 'Burkina Faso', 'Cape Verde', 'Cote D’Ivoire', 'Gambia', 'Ghana', 'Guinea',\n",
    "          'Guinea-Bissau', 'Liberia', 'Mali', 'Mauritania', 'Niger', 'Nigeria', 'Saint Helena', 'Senegal',\n",
    "          'Sierra Leone', 'South Africa', 'Togo', \"Cote d'Ivoire\", 'Democratic Republic of Congo', 'Lesotho', 'Namibia',\n",
    "          'Sao Tome and Principe', 'Swaziland', 'Zimbabwe']\n",
    "Antarctica = ['Antarctic Fisheries']\n",
    "Asia = ['Bangladesh', 'Bhutan', 'Brunei', 'Cambodia', 'China', 'Hong Kong',\n",
    "        'India', 'Indonesia', 'Japan', 'North Korea', 'South Korea',\n",
    "        'Kyrgyzstan', 'Laos', 'Macao', 'Malaysia', 'Maldives', 'Mongolia', 'Myanmar', 'Nepal', 'Pakistan',\n",
    "        'Philippines', 'Singapore', 'Sri Lanka', 'Taiwan', 'Tajikistan', 'Thailand', 'Timor Leste', 'Turkmenistan',\n",
    "        'Uzbekistan', 'Vietnam', 'Turkey', 'Timor', 'Tonga', 'Afghanistan', 'Bahrain', 'Iraq', 'Iran', 'Israel',\n",
    "        'Jordan', 'Kuwait', 'Lebanon', 'Oman', 'Palestine', 'Palestina', 'Qatar', 'Saudi Arabia', 'Syria', 'United Arab Emirates',\n",
    "        'Yemen', 'Sudan']\n",
    "America = ['Bermuda', 'Canada', 'Greenland', 'Saint Pierre', 'Miquelon', 'Mexico', 'Belize', 'Costa Rica',\n",
    "                 'El Salvador', 'Guatemala', 'Honduras', 'Mexico', 'Nicaragua', 'Panama', 'United States',\n",
    "                 'Aruba', 'Bahamas', 'Barbados', 'Belize', 'Dominican Republic', 'Curacao',\n",
    "                 'Guyana', 'Haiti', 'Jamaica', 'OECS', 'Antigua and Barbuda', 'Dominica', 'Grenada',\n",
    "                 'Saint Lucia', 'Saint Vincent and the Grenadines', 'Suriname', 'Trinidad and Tobago',\n",
    "                 'Turks and Caicos', 'Anguilla', 'Grenada', 'Montserrat', 'Saint Kitts and Nevis',\n",
    "                 'Saint Pierre and Miquelon', 'Turks and Caicos Islands', 'Argentina', 'Bolivia', 'Brazil',\n",
    "                  'Chile', 'Colombia', 'Ecuador', 'Falkland Islands', 'French Guiana', 'Guyana', 'Paraguay',\n",
    "                  'Peru', 'Suriname', 'Uruguay', 'Venezuela', 'Cuba']\n",
    "\n",
    "Oceania = ['Australia', 'Fiji', 'French Polynesia', 'Guam', 'Kiribati', 'The Marshall Islands',\n",
    "           'Micronesia', 'New Caledonia', 'New Zealand', 'Papua New Guinea', 'Samoa', 'American Samoa',\n",
    "           'Solomon Islands', 'Vanuatu', 'Christmas Island', 'Cook Islands', 'Micronesia', 'Micronesia (country)', 'Nauru', 'Niue',\n",
    "           'Palau', 'Tuvalu', 'Wallis and Futuna Islands']\n",
    "Europe = ['Armenia', 'Albania', 'Andorra', 'Belarus', 'Kazakhstan', 'Kyrgysztan', 'Liechtenstein', 'Macedonia', 'Monaco',\n",
    "          'Montenegro', 'Serbia', 'Bosnia and Herzegovina', 'Bosnia And Herzegovina', 'Marshall Islands', 'Moldova', 'Switzerland',\n",
    "          'Russia', 'Kazakhastan', 'Ukraine', 'Gibraltar', 'Azerbaijan', 'Georgia', 'Austria', 'Belgium', 'Bulgaria', 'Croatia',\n",
    "          'Cyprus', 'Czech Republic', 'Denmark', 'Estonia', 'Finland', 'France', 'Germany', 'Greece', 'Hungary', 'Iceland',\n",
    "          'Ireland', 'Italy', 'Latvia', 'Lithuania', 'Luxembourg', 'Malta', 'Netherlands', 'Norway', 'Poland', 'Portugal',\n",
    "          'Romania', 'Slovakia', 'Slovenia', 'Spain', 'Sweden', 'United Kingdom', 'Czechoslovakia']\n"
   ]
  },
  {
   "cell_type": "code",
   "execution_count": 32,
   "metadata": {},
   "outputs": [],
   "source": [
    "data['Region'] = ''"
   ]
  },
  {
   "cell_type": "code",
   "execution_count": 33,
   "metadata": {},
   "outputs": [
    {
     "data": {
      "text/html": [
       "<div>\n",
       "<style scoped>\n",
       "    .dataframe tbody tr th:only-of-type {\n",
       "        vertical-align: middle;\n",
       "    }\n",
       "\n",
       "    .dataframe tbody tr th {\n",
       "        vertical-align: top;\n",
       "    }\n",
       "\n",
       "    .dataframe thead th {\n",
       "        text-align: right;\n",
       "    }\n",
       "</style>\n",
       "<table border=\"1\" class=\"dataframe\">\n",
       "  <thead>\n",
       "    <tr style=\"text-align: right;\">\n",
       "      <th></th>\n",
       "      <th>dt</th>\n",
       "      <th>AverageTemperature</th>\n",
       "      <th>AverageTemperatureUncertainty</th>\n",
       "      <th>Country</th>\n",
       "      <th>Year</th>\n",
       "      <th>Month</th>\n",
       "      <th>mean</th>\n",
       "      <th>Anom</th>\n",
       "      <th>Anom2</th>\n",
       "      <th>Anom3</th>\n",
       "      <th>Region</th>\n",
       "    </tr>\n",
       "  </thead>\n",
       "  <tbody>\n",
       "    <tr>\n",
       "      <th>0</th>\n",
       "      <td>1838-04</td>\n",
       "      <td>13.008</td>\n",
       "      <td>2.586</td>\n",
       "      <td>Afghanistan</td>\n",
       "      <td>1838</td>\n",
       "      <td>4</td>\n",
       "      <td>14.620067</td>\n",
       "      <td>-1.612067</td>\n",
       "      <td>-4.198067</td>\n",
       "      <td>-4.198067</td>\n",
       "      <td>Asia</td>\n",
       "    </tr>\n",
       "    <tr>\n",
       "      <th>1</th>\n",
       "      <td>1838-06</td>\n",
       "      <td>23.950</td>\n",
       "      <td>2.510</td>\n",
       "      <td>Afghanistan</td>\n",
       "      <td>1838</td>\n",
       "      <td>6</td>\n",
       "      <td>24.809933</td>\n",
       "      <td>-0.859933</td>\n",
       "      <td>-3.369933</td>\n",
       "      <td>-3.369933</td>\n",
       "      <td>Asia</td>\n",
       "    </tr>\n",
       "    <tr>\n",
       "      <th>2</th>\n",
       "      <td>1838-07</td>\n",
       "      <td>26.877</td>\n",
       "      <td>2.883</td>\n",
       "      <td>Afghanistan</td>\n",
       "      <td>1838</td>\n",
       "      <td>7</td>\n",
       "      <td>26.710067</td>\n",
       "      <td>0.166933</td>\n",
       "      <td>-2.716067</td>\n",
       "      <td>0.000000</td>\n",
       "      <td>Asia</td>\n",
       "    </tr>\n",
       "    <tr>\n",
       "      <th>3</th>\n",
       "      <td>1838-08</td>\n",
       "      <td>24.938</td>\n",
       "      <td>2.992</td>\n",
       "      <td>Afghanistan</td>\n",
       "      <td>1838</td>\n",
       "      <td>8</td>\n",
       "      <td>25.010067</td>\n",
       "      <td>-0.072067</td>\n",
       "      <td>-3.064067</td>\n",
       "      <td>-3.064067</td>\n",
       "      <td>Asia</td>\n",
       "    </tr>\n",
       "    <tr>\n",
       "      <th>4</th>\n",
       "      <td>1838-09</td>\n",
       "      <td>18.981</td>\n",
       "      <td>2.538</td>\n",
       "      <td>Afghanistan</td>\n",
       "      <td>1838</td>\n",
       "      <td>9</td>\n",
       "      <td>20.400033</td>\n",
       "      <td>-1.419033</td>\n",
       "      <td>-3.957033</td>\n",
       "      <td>-3.957033</td>\n",
       "      <td>Asia</td>\n",
       "    </tr>\n",
       "  </tbody>\n",
       "</table>\n",
       "</div>"
      ],
      "text/plain": [
       "        dt  AverageTemperature  AverageTemperatureUncertainty      Country  \\\n",
       "0  1838-04              13.008                          2.586  Afghanistan   \n",
       "1  1838-06              23.950                          2.510  Afghanistan   \n",
       "2  1838-07              26.877                          2.883  Afghanistan   \n",
       "3  1838-08              24.938                          2.992  Afghanistan   \n",
       "4  1838-09              18.981                          2.538  Afghanistan   \n",
       "\n",
       "   Year  Month       mean      Anom     Anom2     Anom3 Region  \n",
       "0  1838      4  14.620067 -1.612067 -4.198067 -4.198067   Asia  \n",
       "1  1838      6  24.809933 -0.859933 -3.369933 -3.369933   Asia  \n",
       "2  1838      7  26.710067  0.166933 -2.716067  0.000000   Asia  \n",
       "3  1838      8  25.010067 -0.072067 -3.064067 -3.064067   Asia  \n",
       "4  1838      9  20.400033 -1.419033 -3.957033 -3.957033   Asia  "
      ]
     },
     "execution_count": 33,
     "metadata": {},
     "output_type": "execute_result"
    }
   ],
   "source": [
    "data.loc[data['Country'].isin(Africa), 'Region'] = 'Africa'\n",
    "data.loc[data['Country'].isin(Asia), 'Region'] = 'Asia'\n",
    "data.loc[data['Country'].isin(America), 'Region'] = 'America'\n",
    "data.loc[data['Country'].isin(Oceania), 'Region'] = 'Oceania'\n",
    "data.loc[data['Country'].isin(Europe), 'Region'] = 'Europe'\n",
    "data.head()\n",
    "#data.tail()"
   ]
  },
  {
   "cell_type": "code",
   "execution_count": 34,
   "metadata": {},
   "outputs": [
    {
     "data": {
      "text/plain": [
       "array([], dtype=object)"
      ]
     },
     "execution_count": 34,
     "metadata": {},
     "output_type": "execute_result"
    }
   ],
   "source": [
    "data.query('Region==\"\"')['Country'].unique()"
   ]
  },
  {
   "cell_type": "code",
   "execution_count": 35,
   "metadata": {},
   "outputs": [],
   "source": [
    "# inform season\n",
    "Summer = ['7', '8', '9']\n",
    "Fall = ['10', '11', '12']\n",
    "Winter = ['1', '2', '3']\n",
    "Spring = ['4', '5', '6']"
   ]
  },
  {
   "cell_type": "code",
   "execution_count": 36,
   "metadata": {},
   "outputs": [],
   "source": [
    "data['Season'] = ''\n",
    "data.loc[data['Month'].isin(Summer), 'Season'] = 'summer'\n",
    "data.loc[data['Month'].isin(Fall), 'Season'] = 'fall'\n",
    "data.loc[data['Month'].isin(Winter), 'Season'] = 'winter'\n",
    "data.loc[data['Month'].isin(Spring), 'Season'] = 'spring'"
   ]
  },
  {
   "cell_type": "code",
   "execution_count": 37,
   "metadata": {},
   "outputs": [
    {
     "data": {
      "text/html": [
       "<div>\n",
       "<style scoped>\n",
       "    .dataframe tbody tr th:only-of-type {\n",
       "        vertical-align: middle;\n",
       "    }\n",
       "\n",
       "    .dataframe tbody tr th {\n",
       "        vertical-align: top;\n",
       "    }\n",
       "\n",
       "    .dataframe thead th {\n",
       "        text-align: right;\n",
       "    }\n",
       "</style>\n",
       "<table border=\"1\" class=\"dataframe\">\n",
       "  <thead>\n",
       "    <tr style=\"text-align: right;\">\n",
       "      <th></th>\n",
       "      <th>dt</th>\n",
       "      <th>AverageTemperature</th>\n",
       "      <th>AverageTemperatureUncertainty</th>\n",
       "      <th>Country</th>\n",
       "      <th>Year</th>\n",
       "      <th>Month</th>\n",
       "      <th>mean</th>\n",
       "      <th>Anom</th>\n",
       "      <th>Anom2</th>\n",
       "      <th>Anom3</th>\n",
       "      <th>Region</th>\n",
       "      <th>Season</th>\n",
       "    </tr>\n",
       "  </thead>\n",
       "  <tbody>\n",
       "    <tr>\n",
       "      <th>0</th>\n",
       "      <td>1838-04</td>\n",
       "      <td>13.008</td>\n",
       "      <td>2.586</td>\n",
       "      <td>Afghanistan</td>\n",
       "      <td>1838</td>\n",
       "      <td>4</td>\n",
       "      <td>14.620067</td>\n",
       "      <td>-1.612067</td>\n",
       "      <td>-4.198067</td>\n",
       "      <td>-4.198067</td>\n",
       "      <td>Asia</td>\n",
       "      <td>spring</td>\n",
       "    </tr>\n",
       "    <tr>\n",
       "      <th>1</th>\n",
       "      <td>1838-06</td>\n",
       "      <td>23.950</td>\n",
       "      <td>2.510</td>\n",
       "      <td>Afghanistan</td>\n",
       "      <td>1838</td>\n",
       "      <td>6</td>\n",
       "      <td>24.809933</td>\n",
       "      <td>-0.859933</td>\n",
       "      <td>-3.369933</td>\n",
       "      <td>-3.369933</td>\n",
       "      <td>Asia</td>\n",
       "      <td>spring</td>\n",
       "    </tr>\n",
       "    <tr>\n",
       "      <th>2</th>\n",
       "      <td>1838-07</td>\n",
       "      <td>26.877</td>\n",
       "      <td>2.883</td>\n",
       "      <td>Afghanistan</td>\n",
       "      <td>1838</td>\n",
       "      <td>7</td>\n",
       "      <td>26.710067</td>\n",
       "      <td>0.166933</td>\n",
       "      <td>-2.716067</td>\n",
       "      <td>0.000000</td>\n",
       "      <td>Asia</td>\n",
       "      <td>summer</td>\n",
       "    </tr>\n",
       "    <tr>\n",
       "      <th>3</th>\n",
       "      <td>1838-08</td>\n",
       "      <td>24.938</td>\n",
       "      <td>2.992</td>\n",
       "      <td>Afghanistan</td>\n",
       "      <td>1838</td>\n",
       "      <td>8</td>\n",
       "      <td>25.010067</td>\n",
       "      <td>-0.072067</td>\n",
       "      <td>-3.064067</td>\n",
       "      <td>-3.064067</td>\n",
       "      <td>Asia</td>\n",
       "      <td>summer</td>\n",
       "    </tr>\n",
       "    <tr>\n",
       "      <th>4</th>\n",
       "      <td>1838-09</td>\n",
       "      <td>18.981</td>\n",
       "      <td>2.538</td>\n",
       "      <td>Afghanistan</td>\n",
       "      <td>1838</td>\n",
       "      <td>9</td>\n",
       "      <td>20.400033</td>\n",
       "      <td>-1.419033</td>\n",
       "      <td>-3.957033</td>\n",
       "      <td>-3.957033</td>\n",
       "      <td>Asia</td>\n",
       "      <td>summer</td>\n",
       "    </tr>\n",
       "  </tbody>\n",
       "</table>\n",
       "</div>"
      ],
      "text/plain": [
       "        dt  AverageTemperature  AverageTemperatureUncertainty      Country  \\\n",
       "0  1838-04              13.008                          2.586  Afghanistan   \n",
       "1  1838-06              23.950                          2.510  Afghanistan   \n",
       "2  1838-07              26.877                          2.883  Afghanistan   \n",
       "3  1838-08              24.938                          2.992  Afghanistan   \n",
       "4  1838-09              18.981                          2.538  Afghanistan   \n",
       "\n",
       "   Year  Month       mean      Anom     Anom2     Anom3 Region  Season  \n",
       "0  1838      4  14.620067 -1.612067 -4.198067 -4.198067   Asia  spring  \n",
       "1  1838      6  24.809933 -0.859933 -3.369933 -3.369933   Asia  spring  \n",
       "2  1838      7  26.710067  0.166933 -2.716067  0.000000   Asia  summer  \n",
       "3  1838      8  25.010067 -0.072067 -3.064067 -3.064067   Asia  summer  \n",
       "4  1838      9  20.400033 -1.419033 -3.957033 -3.957033   Asia  summer  "
      ]
     },
     "execution_count": 37,
     "metadata": {},
     "output_type": "execute_result"
    }
   ],
   "source": [
    "data.head()"
   ]
  },
  {
   "cell_type": "code",
   "execution_count": 38,
   "metadata": {},
   "outputs": [],
   "source": [
    "data.to_csv('anomalies.csv')"
   ]
  }
 ],
 "metadata": {
  "kernelspec": {
   "display_name": "Python 3",
   "language": "python",
   "name": "python3"
  },
  "language_info": {
   "codemirror_mode": {
    "name": "ipython",
    "version": 3
   },
   "file_extension": ".py",
   "mimetype": "text/x-python",
   "name": "python",
   "nbconvert_exporter": "python",
   "pygments_lexer": "ipython3",
   "version": "3.7.6"
  }
 },
 "nbformat": 4,
 "nbformat_minor": 4
}
